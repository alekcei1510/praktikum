{
 "cells": [
  {
   "cell_type": "markdown",
   "id": "888e2308",
   "metadata": {},
   "source": [
    "#### Problem-solving"
   ]
  },
  {
   "cell_type": "code",
   "execution_count": 1,
   "id": "c84789c8",
   "metadata": {},
   "outputs": [],
   "source": [
    "# Libraries\n",
    "import pandas as pd \n",
    "import numpy as np\n",
    "pd.options.mode.chained_assignment = None"
   ]
  },
  {
   "cell_type": "code",
   "execution_count": 2,
   "id": "25ad2953",
   "metadata": {},
   "outputs": [],
   "source": [
    "# 1. Download the event_data.csv dataset, which contains data on the use of the mobile\n",
    "# application of users who registered from July 29 to September 1, 2019\n",
    "df = pd.read_csv(\"../files/event_data.csv\")"
   ]
  },
  {
   "cell_type": "code",
   "execution_count": 3,
   "id": "bc2260c4",
   "metadata": {},
   "outputs": [],
   "source": [
    "# Preprocessing to later \n",
    "df['event_date'] = pd.to_datetime(df['event_date'])\n",
    "df['event_date_str'] = df['event_date'].apply(lambda x: x.strftime(\"%Y-%m-%d\"))\n",
    "df['week_event'] = df['event_date'].apply(lambda x: x.strftime(\"%V\"))"
   ]
  },
  {
   "cell_type": "code",
   "execution_count": 4,
   "id": "b4d0e246",
   "metadata": {},
   "outputs": [
    {
     "name": "stdout",
     "output_type": "stream",
     "text": [
      "Check if it's only one year or more, min: 2019-07-29 00:02:15 & max: 2019-09-01 23:59:54\n"
     ]
    }
   ],
   "source": [
    "# 2. Highlight user cohorts based on the week of registration in the application. The cohort\n",
    "# identifier should be the week ordinal (for example, the week from July 29 to August 4\n",
    "# should have identifier 31).\n",
    "\n",
    "print(f\"Check if it's only one year or more, min: {df.event_date.min()} & max: {df.event_date.max()}\")\n",
    "\n",
    "map_registration = df['event_type'] == 'registration'\n",
    "# Cross validation to check that there is no rows repeated\n",
    "assert df[map_registration].user_id.nunique() ==  df[map_registration].shape[0], \"There is a problem with the data\"\n",
    "\n",
    "# Get all info of registrations and put it int the original df\n",
    "df_registration = df[map_registration]\n",
    "df_registration['cohort_registration'] = df['event_date'].apply(lambda x: x.strftime(\"%V\"))\n",
    "\n",
    "# Final df for making analysis\n",
    "df_processed = df.merge(df_registration[['user_id', 'cohort_registration']], on='user_id', how='inner')"
   ]
  },
  {
   "cell_type": "code",
   "execution_count": 5,
   "id": "8d45b615",
   "metadata": {},
   "outputs": [
    {
     "data": {
      "text/plain": [
       "((79742, 6), (79742, 7))"
      ]
     },
     "execution_count": 5,
     "metadata": {},
     "output_type": "execute_result"
    }
   ],
   "source": [
    "df.shape, df_processed.shape"
   ]
  },
  {
   "cell_type": "code",
   "execution_count": 6,
   "id": "16d59a80",
   "metadata": {},
   "outputs": [
    {
     "name": "stdout",
     "output_type": "stream",
     "text": [
      "cohort_registration            31\n",
      "event_date_str         2019-07-29\n",
      "Name: 353, dtype: object\n",
      "cohort_registration            31\n",
      "event_date_str         2019-08-04\n",
      "Name: 20819, dtype: object\n",
      "cohort_registration            32\n",
      "event_date_str         2019-08-05\n",
      "Name: 21165, dtype: object\n"
     ]
    }
   ],
   "source": [
    "# Some checks to be compliant with the requirements of the week format\n",
    "cols_to_check = ['cohort_registration', 'event_date_str']\n",
    "\n",
    "map_filter_1 = (df_processed['event_date_str']=='2019-07-29') & (df_processed['event_type'] == 'registration')\n",
    "map_filter_2 = (df_processed['event_date_str']=='2019-08-04') & (df_processed['event_type'] == 'registration')\n",
    "map_filter_3 = (df_processed['event_date_str']=='2019-08-05') & (df_processed['event_type'] == 'registration')\n",
    "print(df_processed[map_filter_1].sample(1).iloc[0][cols_to_check])\n",
    "print(df_processed[map_filter_2].sample(1).iloc[0][cols_to_check])\n",
    "print(df_processed[map_filter_3].sample(1).iloc[0][cols_to_check])"
   ]
  },
  {
   "cell_type": "code",
   "execution_count": 7,
   "id": "6d8ef142",
   "metadata": {},
   "outputs": [
    {
     "name": "stdout",
     "output_type": "stream",
     "text": [
      "A total of unique user of week 33: 2045\n"
     ]
    }
   ],
   "source": [
    "# 3. How many unique users in the cohort with ID 33?\n",
    "map_week_33 = df_processed['cohort_registration'] == '33'\n",
    "print(\"A total of unique user of week 33:\", df_processed[map_week_33].user_id.nunique())"
   ]
  },
  {
   "cell_type": "code",
   "execution_count": 8,
   "id": "abb33c8e",
   "metadata": {},
   "outputs": [
    {
     "data": {
      "text/html": [
       "<div>\n",
       "<style scoped>\n",
       "    .dataframe tbody tr th:only-of-type {\n",
       "        vertical-align: middle;\n",
       "    }\n",
       "\n",
       "    .dataframe tbody tr th {\n",
       "        vertical-align: top;\n",
       "    }\n",
       "\n",
       "    .dataframe thead th {\n",
       "        text-align: right;\n",
       "    }\n",
       "</style>\n",
       "<table border=\"1\" class=\"dataframe\">\n",
       "  <thead>\n",
       "    <tr style=\"text-align: right;\">\n",
       "      <th></th>\n",
       "      <th>user_id</th>\n",
       "      <th>event_date</th>\n",
       "      <th>event_type</th>\n",
       "      <th>purchase_amount</th>\n",
       "      <th>event_date_str</th>\n",
       "      <th>week_event</th>\n",
       "      <th>cohort_registration</th>\n",
       "      <th>life_time</th>\n",
       "    </tr>\n",
       "  </thead>\n",
       "  <tbody>\n",
       "    <tr>\n",
       "      <th>45355</th>\n",
       "      <td>187639</td>\n",
       "      <td>2019-08-13 06:45:08</td>\n",
       "      <td>registration</td>\n",
       "      <td>NaN</td>\n",
       "      <td>2019-08-13</td>\n",
       "      <td>33</td>\n",
       "      <td>33</td>\n",
       "      <td>0</td>\n",
       "    </tr>\n",
       "    <tr>\n",
       "      <th>26193</th>\n",
       "      <td>c2a273</td>\n",
       "      <td>2019-08-12 05:31:27</td>\n",
       "      <td>simple_event</td>\n",
       "      <td>NaN</td>\n",
       "      <td>2019-08-12</td>\n",
       "      <td>33</td>\n",
       "      <td>32</td>\n",
       "      <td>1</td>\n",
       "    </tr>\n",
       "    <tr>\n",
       "      <th>13364</th>\n",
       "      <td>a14750</td>\n",
       "      <td>2019-08-14 20:10:08</td>\n",
       "      <td>simple_event</td>\n",
       "      <td>NaN</td>\n",
       "      <td>2019-08-14</td>\n",
       "      <td>33</td>\n",
       "      <td>31</td>\n",
       "      <td>2</td>\n",
       "    </tr>\n",
       "    <tr>\n",
       "      <th>79386</th>\n",
       "      <td>ecb889</td>\n",
       "      <td>2019-09-01 02:55:31</td>\n",
       "      <td>simple_event</td>\n",
       "      <td>NaN</td>\n",
       "      <td>2019-09-01</td>\n",
       "      <td>35</td>\n",
       "      <td>35</td>\n",
       "      <td>0</td>\n",
       "    </tr>\n",
       "    <tr>\n",
       "      <th>38832</th>\n",
       "      <td>857fe7</td>\n",
       "      <td>2019-08-22 17:09:39</td>\n",
       "      <td>simple_event</td>\n",
       "      <td>NaN</td>\n",
       "      <td>2019-08-22</td>\n",
       "      <td>34</td>\n",
       "      <td>32</td>\n",
       "      <td>2</td>\n",
       "    </tr>\n",
       "  </tbody>\n",
       "</table>\n",
       "</div>"
      ],
      "text/plain": [
       "      user_id          event_date    event_type  purchase_amount  \\\n",
       "45355  187639 2019-08-13 06:45:08  registration              NaN   \n",
       "26193  c2a273 2019-08-12 05:31:27  simple_event              NaN   \n",
       "13364  a14750 2019-08-14 20:10:08  simple_event              NaN   \n",
       "79386  ecb889 2019-09-01 02:55:31  simple_event              NaN   \n",
       "38832  857fe7 2019-08-22 17:09:39  simple_event              NaN   \n",
       "\n",
       "      event_date_str week_event cohort_registration  life_time  \n",
       "45355     2019-08-13         33                  33          0  \n",
       "26193     2019-08-12         33                  32          1  \n",
       "13364     2019-08-14         33                  31          2  \n",
       "79386     2019-09-01         35                  35          0  \n",
       "38832     2019-08-22         34                  32          2  "
      ]
     },
     "execution_count": 8,
     "metadata": {},
     "output_type": "execute_result"
    }
   ],
   "source": [
    "# 4. For each event, highlight the indicator lifetime - the weekly lifetime of the cohort. The\n",
    "# lifetime indicator is calculated based on the serial number of the week in which the event\n",
    "# is committed, relative to the week of registration. For example, an event committed on\n",
    "# August 3 by a user from a cohort of registrants at 31 weeks will be committed on the zero\n",
    "# week of lifetime, and an event committed by the same user on August 5 will be committed\n",
    "# on the first week of lifetime).\n",
    "\n",
    "# Check data\n",
    "#map_filter = (df_processed['event_date_str']=='2019-08-03') & (df_processed['event_type'] == 'registration')\n",
    "#print(df_processed[map_filter].sample(1).iloc[0][cols_to_check])\n",
    "\n",
    "df_processed['life_time'] = df_processed['week_event'].astype(int) - df_processed['cohort_registration'].astype(int) \n",
    "df_processed.sample(5)"
   ]
  },
  {
   "cell_type": "code",
   "execution_count": 18,
   "id": "0d7a41ac",
   "metadata": {},
   "outputs": [
    {
     "data": {
      "text/html": [
       "<div>\n",
       "<style scoped>\n",
       "    .dataframe tbody tr th:only-of-type {\n",
       "        vertical-align: middle;\n",
       "    }\n",
       "\n",
       "    .dataframe tbody tr th {\n",
       "        vertical-align: top;\n",
       "    }\n",
       "\n",
       "    .dataframe thead th {\n",
       "        text-align: right;\n",
       "    }\n",
       "</style>\n",
       "<table border=\"1\" class=\"dataframe\">\n",
       "  <thead>\n",
       "    <tr style=\"text-align: right;\">\n",
       "      <th>life_time</th>\n",
       "      <th>0</th>\n",
       "      <th>1</th>\n",
       "      <th>2</th>\n",
       "      <th>3</th>\n",
       "      <th>4</th>\n",
       "    </tr>\n",
       "    <tr>\n",
       "      <th>cohort_registration</th>\n",
       "      <th></th>\n",
       "      <th></th>\n",
       "      <th></th>\n",
       "      <th></th>\n",
       "      <th></th>\n",
       "    </tr>\n",
       "  </thead>\n",
       "  <tbody>\n",
       "    <tr>\n",
       "      <th>31</th>\n",
       "      <td>1.0</td>\n",
       "      <td>0.927595</td>\n",
       "      <td>0.629367</td>\n",
       "      <td>0.356962</td>\n",
       "      <td>0.15038</td>\n",
       "    </tr>\n",
       "    <tr>\n",
       "      <th>32</th>\n",
       "      <td>1.0</td>\n",
       "      <td>0.929303</td>\n",
       "      <td>0.648053</td>\n",
       "      <td>0.361168</td>\n",
       "      <td>0.00000</td>\n",
       "    </tr>\n",
       "    <tr>\n",
       "      <th>33</th>\n",
       "      <td>1.0</td>\n",
       "      <td>0.924205</td>\n",
       "      <td>0.661125</td>\n",
       "      <td>0.000000</td>\n",
       "      <td>0.00000</td>\n",
       "    </tr>\n",
       "    <tr>\n",
       "      <th>34</th>\n",
       "      <td>1.0</td>\n",
       "      <td>0.929078</td>\n",
       "      <td>0.000000</td>\n",
       "      <td>0.000000</td>\n",
       "      <td>0.00000</td>\n",
       "    </tr>\n",
       "    <tr>\n",
       "      <th>35</th>\n",
       "      <td>1.0</td>\n",
       "      <td>0.000000</td>\n",
       "      <td>0.000000</td>\n",
       "      <td>0.000000</td>\n",
       "      <td>0.00000</td>\n",
       "    </tr>\n",
       "  </tbody>\n",
       "</table>\n",
       "</div>"
      ],
      "text/plain": [
       "life_time              0         1         2         3        4\n",
       "cohort_registration                                            \n",
       "31                   1.0  0.927595  0.629367  0.356962  0.15038\n",
       "32                   1.0  0.929303  0.648053  0.361168  0.00000\n",
       "33                   1.0  0.924205  0.661125  0.000000  0.00000\n",
       "34                   1.0  0.929078  0.000000  0.000000  0.00000\n",
       "35                   1.0  0.000000  0.000000  0.000000  0.00000"
      ]
     },
     "execution_count": 18,
     "metadata": {},
     "output_type": "execute_result"
    }
   ],
   "source": [
    "# 5. Build a summary table of changes in the Retention Rate for cohorts depending on lifetime.\n",
    "value_target = 'user_id'\n",
    "df_total = df_processed.groupby(['cohort_registration', 'life_time'])[value_target].apply(lambda x: x.nunique()).reset_index()\n",
    "df_pivot = df_total.pivot_table(index='cohort_registration', columns='life_time', values=value_target)\n",
    "df_pivot = df_pivot.fillna(0)\n",
    "retention_df = df_pivot.divide(df_pivot.iloc[:, 0], axis=0)\n",
    "retention_df"
   ]
  },
  {
   "cell_type": "code",
   "execution_count": 10,
   "id": "126b035b",
   "metadata": {},
   "outputs": [
    {
     "name": "stdout",
     "output_type": "stream",
     "text": [
      "The retention rate for cohort 32 on week 3 is 36.12%\n"
     ]
    }
   ],
   "source": [
    "# 6. What is the 3 week retention rate for a cohort with ID 32? Give the answer in percent,\n",
    "# rounded to 2 decimal places, inclusive.\n",
    "\n",
    "# .loc[cohort_retention][life_time]\n",
    "value = retention_df.loc['32'][3]\n",
    "print(f\"The retention rate for cohort 32 on week 3 is {round(value*100,2)}%\")"
   ]
  },
  {
   "cell_type": "code",
   "execution_count": 11,
   "id": "7ce3b8e5",
   "metadata": {},
   "outputs": [],
   "source": [
    "# 7. Build a summary table of changes in the indicator ARPPU (Average Revenue Per Paying\n",
    "# User) for cohorts depending on lifetime\n",
    "\n",
    "\n",
    "# ARPPU is based in paying customers only.\n",
    "\n",
    "map_paying_users =  ~df_processed['purchase_amount'].isnull()\n",
    "df_total_arppu = df_processed[map_paying_users].groupby(['cohort_registration', 'life_time']).agg({\"purchase_amount\": \"sum\", \n",
    "                                                                                                   \"user_id\": lambda x: x.nunique()}).reset_index()\n",
    "\n",
    "df_total_arppu['arppu_indicator'] = df_total_arppu['purchase_amount'] / df_total_arppu['user_id']\n",
    "df_pivot_arppu = df_total_arppu.pivot_table(index='cohort_registration', columns='life_time', values='arppu_indicator')"
   ]
  },
  {
   "cell_type": "code",
   "execution_count": 12,
   "id": "46c49cc6",
   "metadata": {},
   "outputs": [
    {
     "data": {
      "text/html": [
       "<div>\n",
       "<style scoped>\n",
       "    .dataframe tbody tr th:only-of-type {\n",
       "        vertical-align: middle;\n",
       "    }\n",
       "\n",
       "    .dataframe tbody tr th {\n",
       "        vertical-align: top;\n",
       "    }\n",
       "\n",
       "    .dataframe thead th {\n",
       "        text-align: right;\n",
       "    }\n",
       "</style>\n",
       "<table border=\"1\" class=\"dataframe\">\n",
       "  <thead>\n",
       "    <tr style=\"text-align: right;\">\n",
       "      <th>life_time</th>\n",
       "      <th>0</th>\n",
       "      <th>1</th>\n",
       "      <th>2</th>\n",
       "      <th>3</th>\n",
       "      <th>4</th>\n",
       "    </tr>\n",
       "    <tr>\n",
       "      <th>cohort_registration</th>\n",
       "      <th></th>\n",
       "      <th></th>\n",
       "      <th></th>\n",
       "      <th></th>\n",
       "      <th></th>\n",
       "    </tr>\n",
       "  </thead>\n",
       "  <tbody>\n",
       "    <tr>\n",
       "      <th>31</th>\n",
       "      <td>30.445205</td>\n",
       "      <td>35.413793</td>\n",
       "      <td>35.911765</td>\n",
       "      <td>33.081081</td>\n",
       "      <td>31.40625</td>\n",
       "    </tr>\n",
       "    <tr>\n",
       "      <th>32</th>\n",
       "      <td>32.978723</td>\n",
       "      <td>35.024958</td>\n",
       "      <td>35.294118</td>\n",
       "      <td>33.297872</td>\n",
       "      <td>NaN</td>\n",
       "    </tr>\n",
       "    <tr>\n",
       "      <th>33</th>\n",
       "      <td>33.186441</td>\n",
       "      <td>35.858086</td>\n",
       "      <td>34.784810</td>\n",
       "      <td>NaN</td>\n",
       "      <td>NaN</td>\n",
       "    </tr>\n",
       "    <tr>\n",
       "      <th>34</th>\n",
       "      <td>33.843416</td>\n",
       "      <td>35.904936</td>\n",
       "      <td>NaN</td>\n",
       "      <td>NaN</td>\n",
       "      <td>NaN</td>\n",
       "    </tr>\n",
       "    <tr>\n",
       "      <th>35</th>\n",
       "      <td>34.094955</td>\n",
       "      <td>NaN</td>\n",
       "      <td>NaN</td>\n",
       "      <td>NaN</td>\n",
       "      <td>NaN</td>\n",
       "    </tr>\n",
       "  </tbody>\n",
       "</table>\n",
       "</div>"
      ],
      "text/plain": [
       "life_time                    0          1          2          3         4\n",
       "cohort_registration                                                      \n",
       "31                   30.445205  35.413793  35.911765  33.081081  31.40625\n",
       "32                   32.978723  35.024958  35.294118  33.297872       NaN\n",
       "33                   33.186441  35.858086  34.784810        NaN       NaN\n",
       "34                   33.843416  35.904936        NaN        NaN       NaN\n",
       "35                   34.094955        NaN        NaN        NaN       NaN"
      ]
     },
     "execution_count": 12,
     "metadata": {},
     "output_type": "execute_result"
    }
   ],
   "source": [
    "# Original table\n",
    "df_pivot_arppu"
   ]
  },
  {
   "cell_type": "code",
   "execution_count": 13,
   "id": "9d7c523f",
   "metadata": {},
   "outputs": [
    {
     "name": "stdout",
     "output_type": "stream",
     "text": [
      "The 3-week ARPPU of a cohort with ID 31 is 33.08\n"
     ]
    }
   ],
   "source": [
    "# 8. What is the 3-week ARPPU of a cohort with ID 31? Give the answer with a floating point\n",
    "# number, rounded to 2 decimal places, inclusive.\n",
    "\n",
    "print(f\"The 3-week ARPPU of a cohort with ID 31 is {round(df_pivot_arppu.loc['31'][3],2)}\")"
   ]
  },
  {
   "cell_type": "code",
   "execution_count": 14,
   "id": "8e72c670",
   "metadata": {},
   "outputs": [],
   "source": [
    "# 9. What is the median time between user registration and first purchase? Give the answer\n",
    "# in seconds (!) As an integer.\n",
    "map_base_users = df_processed['event_type'].isin(['purchase', 'registration'])\n",
    "base_users = df_processed[map_base_users]\n",
    "\n",
    "# Order the dataframe, first purchase at the top\n",
    "base_users.sort_values(by=['user_id', 'event_date'], ascending=True, inplace=True)\n",
    "base_processed = base_users.drop_duplicates(subset=['user_id', 'event_type'])\n",
    "\n",
    "# users with purchases\n",
    "valid_users = base_processed.groupby('user_id').event_type.count().reset_index()\n",
    "base_processed = base_processed[base_processed['user_id'].isin(valid_users[valid_users['event_type']>1]['user_id'])]\n",
    "\n"
   ]
  },
  {
   "cell_type": "code",
   "execution_count": 15,
   "id": "3d08d559",
   "metadata": {},
   "outputs": [
    {
     "name": "stdout",
     "output_type": "stream",
     "text": [
      "The median time in seconds between the registration and the first purchase is 434774s\n"
     ]
    }
   ],
   "source": [
    "base_processed['time_diff_raw'] = base_processed['event_date'].shift(-1) - base_processed['event_date']\n",
    "base_processed['time_diff'] = base_processed['time_diff_raw'].apply(lambda x: x.total_seconds())\n",
    "\n",
    "map_base_diff = base_processed['event_type'] == 'registration'\n",
    "print(f\"The median time in seconds between the registration and the first purchase is\\\n",
    " {int(base_processed[map_base_diff]['time_diff'].median())}s\")"
   ]
  },
  {
   "cell_type": "code",
   "execution_count": 16,
   "id": "6b877690",
   "metadata": {},
   "outputs": [
    {
     "data": {
      "text/plain": [
       "count    4.283000e+03\n",
       "mean     5.416124e+05\n",
       "std      4.256284e+05\n",
       "min      6.600000e+01\n",
       "25%      2.232475e+05\n",
       "50%      4.347740e+05\n",
       "75%      7.490150e+05\n",
       "max      2.539779e+06\n",
       "Name: time_diff, dtype: float64"
      ]
     },
     "execution_count": 16,
     "metadata": {},
     "output_type": "execute_result"
    }
   ],
   "source": [
    "# Curiosity \n",
    "base_processed[map_base_diff]['time_diff'].describe()"
   ]
  },
  {
   "cell_type": "code",
   "execution_count": null,
   "id": "a7f73669",
   "metadata": {},
   "outputs": [],
   "source": []
  }
 ],
 "metadata": {
  "kernelspec": {
   "display_name": "Python 3 (ipykernel)",
   "language": "python",
   "name": "python3"
  },
  "language_info": {
   "codemirror_mode": {
    "name": "ipython",
    "version": 3
   },
   "file_extension": ".py",
   "mimetype": "text/x-python",
   "name": "python",
   "nbconvert_exporter": "python",
   "pygments_lexer": "ipython3",
   "version": "3.9.6"
  }
 },
 "nbformat": 4,
 "nbformat_minor": 5
}
