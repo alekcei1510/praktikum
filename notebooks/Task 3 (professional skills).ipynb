{
 "cells": [
  {
   "cell_type": "markdown",
   "id": "db3a2230",
   "metadata": {},
   "source": [
    "### Answering student questions\n",
    "How would you answer the student's question below? Your task is to get your message across in such a way that a beginner can understand your explanation. You can do this any way you want (pictures, GIFs, metaphors, anything) so long as it makes your explanation clear.\n",
    "Answer the question: \"What is the difference between DataFrame and Series?\"\n",
    "Indicate how much time you spent completing this task."
   ]
  },
  {
   "cell_type": "markdown",
   "id": "71cd8167",
   "metadata": {},
   "source": [
    "#### Answer: \n",
    "\n",
    "Hi! \n",
    "\n",
    "Python has two main types of structure for the data, dataframe and series. You can think of it with an analogy to a matrix or a google sheets file, a series would be the column of the matrix including all the values of the same type and the dataframe would be the agruptation of two or more series (columns in our example), so it will be the whole matrix. \n",
    "\n",
    "I am attaching you an example with an image: \n",
    "\n",
    "<img src=\"df_vs_serie.png\" alt=\"drawing\" width=\"500\" height=\"200\"/>\n",
    "\n",
    "[Source of the image](https://www.datasciencemadesimple.com/wp-content/uploads/2020/05/create-series-in-python-pandas-0.png)\n",
    "\n",
    "#### A couple of useful links for deep dive\n",
    "- [DataFrame documentation](https://pandas.pydata.org/docs/reference/api/pandas.DataFrame.html)\n",
    "\n",
    "- [Series documentation](https://pandas.pydata.org/docs/reference/api/pandas.Series.html)\n"
   ]
  },
  {
   "cell_type": "markdown",
   "id": "59d9aaa0",
   "metadata": {},
   "source": [
    "*** Time spending on the task: (7 minutes)***"
   ]
  },
  {
   "cell_type": "code",
   "execution_count": null,
   "id": "92b42e8d",
   "metadata": {},
   "outputs": [],
   "source": []
  }
 ],
 "metadata": {
  "kernelspec": {
   "display_name": "Python 3 (ipykernel)",
   "language": "python",
   "name": "python3"
  },
  "language_info": {
   "codemirror_mode": {
    "name": "ipython",
    "version": 3
   },
   "file_extension": ".py",
   "mimetype": "text/x-python",
   "name": "python",
   "nbconvert_exporter": "python",
   "pygments_lexer": "ipython3",
   "version": "3.9.6"
  }
 },
 "nbformat": 4,
 "nbformat_minor": 5
}
