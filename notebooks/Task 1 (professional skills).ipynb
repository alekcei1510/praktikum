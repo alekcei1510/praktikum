{
 "cells": [
  {
   "cell_type": "code",
   "execution_count": 27,
   "id": "22988fc1",
   "metadata": {},
   "outputs": [],
   "source": [
    "# Libraries\n",
    "import pandas as pd \n",
    "import numpy as np\n",
    "pd.options.mode.chained_assignment = None"
   ]
  },
  {
   "cell_type": "code",
   "execution_count": 28,
   "id": "a1da8f0f",
   "metadata": {},
   "outputs": [],
   "source": [
    "# - 1.1. Download the data set movie_metadata.csv, which contains data about films from IMDb\n",
    "# (Internet Movie Database).\n",
    "df = pd.read_csv(\"../files/movie_metadata.csv\")"
   ]
  },
  {
   "cell_type": "markdown",
   "id": "f7c8e583",
   "metadata": {},
   "source": [
    "#### Exploring the dataframe "
   ]
  },
  {
   "cell_type": "code",
   "execution_count": 29,
   "id": "2fd2843c",
   "metadata": {},
   "outputs": [
    {
     "data": {
      "text/html": [
       "<div>\n",
       "<style scoped>\n",
       "    .dataframe tbody tr th:only-of-type {\n",
       "        vertical-align: middle;\n",
       "    }\n",
       "\n",
       "    .dataframe tbody tr th {\n",
       "        vertical-align: top;\n",
       "    }\n",
       "\n",
       "    .dataframe thead th {\n",
       "        text-align: right;\n",
       "    }\n",
       "</style>\n",
       "<table border=\"1\" class=\"dataframe\">\n",
       "  <thead>\n",
       "    <tr style=\"text-align: right;\">\n",
       "      <th></th>\n",
       "      <th>color</th>\n",
       "      <th>director_name</th>\n",
       "      <th>num_critic_for_reviews</th>\n",
       "      <th>duration</th>\n",
       "      <th>director_facebook_likes</th>\n",
       "      <th>actor_3_facebook_likes</th>\n",
       "      <th>actor_2_name</th>\n",
       "      <th>actor_1_facebook_likes</th>\n",
       "      <th>gross</th>\n",
       "      <th>genres</th>\n",
       "      <th>...</th>\n",
       "      <th>num_user_for_reviews</th>\n",
       "      <th>language</th>\n",
       "      <th>country</th>\n",
       "      <th>content_rating</th>\n",
       "      <th>budget</th>\n",
       "      <th>title_year</th>\n",
       "      <th>actor_2_facebook_likes</th>\n",
       "      <th>imdb_score</th>\n",
       "      <th>aspect_ratio</th>\n",
       "      <th>movie_facebook_likes</th>\n",
       "    </tr>\n",
       "  </thead>\n",
       "  <tbody>\n",
       "    <tr>\n",
       "      <th>0</th>\n",
       "      <td>Color</td>\n",
       "      <td>James Cameron</td>\n",
       "      <td>723.0</td>\n",
       "      <td>178.0</td>\n",
       "      <td>0.0</td>\n",
       "      <td>855.0</td>\n",
       "      <td>Joel David Moore</td>\n",
       "      <td>1000.0</td>\n",
       "      <td>760505847.0</td>\n",
       "      <td>Action|Adventure|Fantasy|Sci-Fi</td>\n",
       "      <td>...</td>\n",
       "      <td>3054.0</td>\n",
       "      <td>English</td>\n",
       "      <td>USA</td>\n",
       "      <td>PG-13</td>\n",
       "      <td>237000000.0$</td>\n",
       "      <td>2009.0</td>\n",
       "      <td>936.0</td>\n",
       "      <td>7.9</td>\n",
       "      <td>1.78</td>\n",
       "      <td>33000</td>\n",
       "    </tr>\n",
       "    <tr>\n",
       "      <th>1</th>\n",
       "      <td>Color</td>\n",
       "      <td>Gore Verbinski</td>\n",
       "      <td>302.0</td>\n",
       "      <td>169.0</td>\n",
       "      <td>563.0</td>\n",
       "      <td>1000.0</td>\n",
       "      <td>Orlando Bloom</td>\n",
       "      <td>40000.0</td>\n",
       "      <td>309404152.0</td>\n",
       "      <td>Action|Adventure|Fantasy</td>\n",
       "      <td>...</td>\n",
       "      <td>1238.0</td>\n",
       "      <td>English</td>\n",
       "      <td>USA</td>\n",
       "      <td>PG-13</td>\n",
       "      <td>300000000.0$</td>\n",
       "      <td>2007.0</td>\n",
       "      <td>5000.0</td>\n",
       "      <td>7.1</td>\n",
       "      <td>2.35</td>\n",
       "      <td>0</td>\n",
       "    </tr>\n",
       "  </tbody>\n",
       "</table>\n",
       "<p>2 rows × 28 columns</p>\n",
       "</div>"
      ],
      "text/plain": [
       "   color   director_name  num_critic_for_reviews  duration  \\\n",
       "0  Color   James Cameron                   723.0     178.0   \n",
       "1  Color  Gore Verbinski                   302.0     169.0   \n",
       "\n",
       "   director_facebook_likes  actor_3_facebook_likes      actor_2_name  \\\n",
       "0                      0.0                   855.0  Joel David Moore   \n",
       "1                    563.0                  1000.0     Orlando Bloom   \n",
       "\n",
       "   actor_1_facebook_likes        gross                           genres  ...  \\\n",
       "0                  1000.0  760505847.0  Action|Adventure|Fantasy|Sci-Fi  ...   \n",
       "1                 40000.0  309404152.0         Action|Adventure|Fantasy  ...   \n",
       "\n",
       "  num_user_for_reviews language  country  content_rating        budget  \\\n",
       "0               3054.0  English      USA           PG-13  237000000.0$   \n",
       "1               1238.0  English      USA           PG-13  300000000.0$   \n",
       "\n",
       "   title_year actor_2_facebook_likes imdb_score  aspect_ratio  \\\n",
       "0      2009.0                  936.0        7.9          1.78   \n",
       "1      2007.0                 5000.0        7.1          2.35   \n",
       "\n",
       "  movie_facebook_likes  \n",
       "0                33000  \n",
       "1                    0  \n",
       "\n",
       "[2 rows x 28 columns]"
      ]
     },
     "execution_count": 29,
     "metadata": {},
     "output_type": "execute_result"
    }
   ],
   "source": [
    "df.head(2)"
   ]
  },
  {
   "cell_type": "code",
   "execution_count": 30,
   "id": "e4e52849",
   "metadata": {},
   "outputs": [
    {
     "data": {
      "text/plain": [
       "Index(['color', 'director_name', 'num_critic_for_reviews', 'duration',\n",
       "       'director_facebook_likes', 'actor_3_facebook_likes', 'actor_2_name',\n",
       "       'actor_1_facebook_likes', 'gross', 'genres', 'actor_1_name',\n",
       "       'movie_title', 'num_voted_users', 'cast_total_facebook_likes',\n",
       "       'actor_3_name', 'facenumber_in_poster', 'plot_keywords',\n",
       "       'movie_imdb_link', 'num_user_for_reviews', 'language', 'country',\n",
       "       'content_rating', 'budget', 'title_year', 'actor_2_facebook_likes',\n",
       "       'imdb_score', 'aspect_ratio', 'movie_facebook_likes'],\n",
       "      dtype='object')"
      ]
     },
     "execution_count": 30,
     "metadata": {},
     "output_type": "execute_result"
    }
   ],
   "source": [
    "df.columns"
   ]
  },
  {
   "cell_type": "markdown",
   "id": "b2dc0753",
   "metadata": {},
   "source": [
    "#### Main points of the task\n",
    "\n",
    "Note: Each cell above has the point to resolve"
   ]
  },
  {
   "cell_type": "code",
   "execution_count": 31,
   "id": "616d3af1",
   "metadata": {},
   "outputs": [
    {
     "name": "stdout",
     "output_type": "stream",
     "text": [
      "There is 15 missing values on the column duration\n"
     ]
    }
   ],
   "source": [
    "# 1.2. The duration column contains data on the film length. How many missing values are there  in this column?\n",
    "na_duration = df['duration'].isna().sum()\n",
    "print(f\"There is {na_duration} missing values on the column duration\")"
   ]
  },
  {
   "cell_type": "code",
   "execution_count": 32,
   "id": "1a0d56e0",
   "metadata": {},
   "outputs": [],
   "source": [
    "# 1.3. Replace the missing values in the duration column with the median value for this column.\n",
    "df['duration'].fillna((df['duration'].mean()), inplace=True)"
   ]
  },
  {
   "cell_type": "code",
   "execution_count": 33,
   "id": "562fbe86",
   "metadata": {},
   "outputs": [
    {
     "name": "stdout",
     "output_type": "stream",
     "text": [
      "The average duration of the films is 107.2\n"
     ]
    }
   ],
   "source": [
    "# 1.4. What is the average film length? Give the answer as a floating-point figure rounded to two decimal places.\n",
    "average_duration = df['duration'].mean().round(2)\n",
    "print(f\"The average duration of the films is {average_duration}\")"
   ]
  },
  {
   "cell_type": "code",
   "execution_count": 34,
   "id": "76df666d",
   "metadata": {},
   "outputs": [],
   "source": [
    "# 1.5. Create a movie_duration_category column, which will contain three categories\n",
    "# depending on the film length:\n",
    "#   • Category \"1. <90\" if the film is less than 90 minutes long\n",
    "#   • Category \"2. 90–120\" if the film is between 90 minutes and two hours long (inclusively)\n",
    "#   • Category \"3. >120\" if the film is more than two hours long\n",
    "\n",
    "def map_duration_category(x): \n",
    "    \"\"\"\n",
    "    Map the categories in each bucket of duration\n",
    "    \"\"\"\n",
    "    if x < 90: \n",
    "        return '<90'\n",
    "    elif 90 <= x <= 120: \n",
    "        return '90–120'\n",
    "    else: \n",
    "        return '>120'\n",
    "    \n",
    "df['movie_duration_category'] = df['duration'].map(map_duration_category)\n"
   ]
  },
  {
   "cell_type": "code",
   "execution_count": 35,
   "id": "551bb4a3",
   "metadata": {},
   "outputs": [
    {
     "data": {
      "text/html": [
       "<div>\n",
       "<style scoped>\n",
       "    .dataframe tbody tr th:only-of-type {\n",
       "        vertical-align: middle;\n",
       "    }\n",
       "\n",
       "    .dataframe tbody tr th {\n",
       "        vertical-align: top;\n",
       "    }\n",
       "\n",
       "    .dataframe thead th {\n",
       "        text-align: right;\n",
       "    }\n",
       "</style>\n",
       "<table border=\"1\" class=\"dataframe\">\n",
       "  <thead>\n",
       "    <tr style=\"text-align: right;\">\n",
       "      <th>movie_duration_category</th>\n",
       "      <th>90–120</th>\n",
       "      <th>&lt;90</th>\n",
       "      <th>&gt;120</th>\n",
       "    </tr>\n",
       "    <tr>\n",
       "      <th>release_year</th>\n",
       "      <th></th>\n",
       "      <th></th>\n",
       "      <th></th>\n",
       "    </tr>\n",
       "  </thead>\n",
       "  <tbody>\n",
       "    <tr>\n",
       "      <th>2000</th>\n",
       "      <td>112</td>\n",
       "      <td>25</td>\n",
       "      <td>34</td>\n",
       "    </tr>\n",
       "    <tr>\n",
       "      <th>2001</th>\n",
       "      <td>120</td>\n",
       "      <td>29</td>\n",
       "      <td>39</td>\n",
       "    </tr>\n",
       "    <tr>\n",
       "      <th>2002</th>\n",
       "      <td>146</td>\n",
       "      <td>36</td>\n",
       "      <td>27</td>\n",
       "    </tr>\n",
       "    <tr>\n",
       "      <th>2003</th>\n",
       "      <td>108</td>\n",
       "      <td>31</td>\n",
       "      <td>30</td>\n",
       "    </tr>\n",
       "    <tr>\n",
       "      <th>2004</th>\n",
       "      <td>142</td>\n",
       "      <td>30</td>\n",
       "      <td>42</td>\n",
       "    </tr>\n",
       "    <tr>\n",
       "      <th>2005</th>\n",
       "      <td>142</td>\n",
       "      <td>31</td>\n",
       "      <td>48</td>\n",
       "    </tr>\n",
       "    <tr>\n",
       "      <th>2006</th>\n",
       "      <td>146</td>\n",
       "      <td>40</td>\n",
       "      <td>53</td>\n",
       "    </tr>\n",
       "    <tr>\n",
       "      <th>2007</th>\n",
       "      <td>130</td>\n",
       "      <td>31</td>\n",
       "      <td>43</td>\n",
       "    </tr>\n",
       "    <tr>\n",
       "      <th>2008</th>\n",
       "      <td>160</td>\n",
       "      <td>29</td>\n",
       "      <td>36</td>\n",
       "    </tr>\n",
       "    <tr>\n",
       "      <th>2009</th>\n",
       "      <td>178</td>\n",
       "      <td>42</td>\n",
       "      <td>40</td>\n",
       "    </tr>\n",
       "  </tbody>\n",
       "</table>\n",
       "</div>"
      ],
      "text/plain": [
       "movie_duration_category  90–120  <90  >120\n",
       "release_year                              \n",
       "2000                        112   25    34\n",
       "2001                        120   29    39\n",
       "2002                        146   36    27\n",
       "2003                        108   31    30\n",
       "2004                        142   30    42\n",
       "2005                        142   31    48\n",
       "2006                        146   40    53\n",
       "2007                        130   31    43\n",
       "2008                        160   29    36\n",
       "2009                        178   42    40"
      ]
     },
     "execution_count": 35,
     "metadata": {},
     "output_type": "execute_result"
    }
   ],
   "source": [
    "# 1.6. Build a summary table for films released after 2000 (inclusively), to list the numbers of\n",
    "# films:\n",
    "#   • Table rows: year\n",
    "#   • Table columns: movie duration category (\"<90\", \"90–120\", \">120\")\n",
    "#   • The year of release should be displayed in the YYYY format.\n",
    "\n",
    "recent_films = df[df['title_year'] >= 2000]\n",
    "recent_films['release_year'] = recent_films['title_year'].astype(int).astype(str)\n",
    "table_resume = recent_films[['release_year', 'movie_duration_category']].pivot_table(index='release_year', columns=['movie_duration_category'], aggfunc=lambda x: len(x))\n",
    "table_resume.head(10)"
   ]
  },
  {
   "cell_type": "code",
   "execution_count": 36,
   "id": "94f9380f",
   "metadata": {},
   "outputs": [
    {
     "name": "stdout",
     "output_type": "stream",
     "text": [
      "There are 160 films between 90 minutes and two hours long that were released in 2008\n"
     ]
    }
   ],
   "source": [
    "# 1.7. How many films between 90 minutes and two hours long were released in 2008?\n",
    "condition = (df['title_year'] == 2008) & (df['duration'].between(90, 120))\n",
    "print(f\"There are {df[condition].shape[0]} films between 90 minutes and two hours long that were released in 2008\")"
   ]
  },
  {
   "cell_type": "code",
   "execution_count": 37,
   "id": "547555a7",
   "metadata": {},
   "outputs": [
    {
     "data": {
      "text/plain": [
       "4273    fellatio|seven word title|shoe salesman|title ...\n",
       "1575               africa|hunter|love|marriage|plantation\n",
       "Name: plot_keywords, dtype: object"
      ]
     },
     "execution_count": 37,
     "metadata": {},
     "output_type": "execute_result"
    }
   ],
   "source": [
    "df['plot_keywords'].sample(2)"
   ]
  },
  {
   "cell_type": "code",
   "execution_count": 38,
   "id": "acd003b4",
   "metadata": {},
   "outputs": [],
   "source": [
    "# 1.8. The plot_keywords column holds keywords characterizing the film's plot. Using the data\n",
    "# in this column, create a column called movie_plot_category, to contain four categories\n",
    "#   depending on the key words in the column:\n",
    "#    • Category \"love_and_death\" if the keywords include both \"love\" and \"death\"\n",
    "#    • Category \"love\" if the keywords include the word \"love\"\n",
    "#    • Category \"death\" if the keywords include the word \"death\"\n",
    "#    • Category \"other\" if the keywords do not meet the conditions above\n",
    "\n",
    "def movie_plot_category(x): \n",
    "    if x is None or str(x) == 'nan': \n",
    "        return 'other'\n",
    "    elif 'love' in x and 'death' in x: \n",
    "        return 'love_and_death'\n",
    "    elif 'love' in x: \n",
    "        return 'love'\n",
    "    elif 'death' in x: \n",
    "        return 'death'\n",
    "    else: \n",
    "        return 'other'\n",
    "\n",
    "# Making sure all is in lower case \n",
    "df['plot_keywords'] = df['plot_keywords'].str.lower()\n",
    "df['movie_plot_category'] = df['plot_keywords'].map(movie_plot_category)\n"
   ]
  },
  {
   "cell_type": "code",
   "execution_count": 39,
   "id": "92c52a1e",
   "metadata": {},
   "outputs": [
    {
     "data": {
      "text/plain": [
       "other             4621\n",
       "love               234\n",
       "death              172\n",
       "love_and_death      16\n",
       "Name: movie_plot_category, dtype: int64"
      ]
     },
     "execution_count": 39,
     "metadata": {},
     "output_type": "execute_result"
    }
   ],
   "source": [
    "# Check general movie_plot_category\n",
    "df['movie_plot_category'].value_counts()"
   ]
  },
  {
   "cell_type": "code",
   "execution_count": 40,
   "id": "271a0374",
   "metadata": {},
   "outputs": [
    {
     "name": "stdout",
     "output_type": "stream",
     "text": [
      "Love category example:  blood|book|love|potion|professor\n",
      "Love & death category example:  coroner|death|gay son|love|mistaken identity\n",
      "other category example:  avatar|future|marine|native|paraplegic\n"
     ]
    }
   ],
   "source": [
    "# Check general movie_plot_category\n",
    "print(\"Love category example: \", df[df['movie_plot_category']=='love']['plot_keywords'].iloc[0])\n",
    "print(\"Love & death category example: \", df[df['movie_plot_category']=='love_and_death']['plot_keywords'].iloc[-1])\n",
    "print(\"other category example: \", df[df['movie_plot_category']=='other']['plot_keywords'].iloc[0])"
   ]
  },
  {
   "cell_type": "code",
   "execution_count": 41,
   "id": "3bce168d",
   "metadata": {},
   "outputs": [
    {
     "data": {
      "text/html": [
       "<div>\n",
       "<style scoped>\n",
       "    .dataframe tbody tr th:only-of-type {\n",
       "        vertical-align: middle;\n",
       "    }\n",
       "\n",
       "    .dataframe tbody tr th {\n",
       "        vertical-align: top;\n",
       "    }\n",
       "\n",
       "    .dataframe thead th {\n",
       "        text-align: right;\n",
       "    }\n",
       "</style>\n",
       "<table border=\"1\" class=\"dataframe\">\n",
       "  <thead>\n",
       "    <tr style=\"text-align: right;\">\n",
       "      <th></th>\n",
       "      <th>movie_plot_category</th>\n",
       "      <th>imdb_score</th>\n",
       "    </tr>\n",
       "  </thead>\n",
       "  <tbody>\n",
       "    <tr>\n",
       "      <th>0</th>\n",
       "      <td>death</td>\n",
       "      <td>6.535465</td>\n",
       "    </tr>\n",
       "    <tr>\n",
       "      <th>1</th>\n",
       "      <td>love</td>\n",
       "      <td>6.580769</td>\n",
       "    </tr>\n",
       "    <tr>\n",
       "      <th>2</th>\n",
       "      <td>love_and_death</td>\n",
       "      <td>6.506250</td>\n",
       "    </tr>\n",
       "    <tr>\n",
       "      <th>3</th>\n",
       "      <td>other</td>\n",
       "      <td>6.431422</td>\n",
       "    </tr>\n",
       "  </tbody>\n",
       "</table>\n",
       "</div>"
      ],
      "text/plain": [
       "  movie_plot_category  imdb_score\n",
       "0               death    6.535465\n",
       "1                love    6.580769\n",
       "2      love_and_death    6.506250\n",
       "3               other    6.431422"
      ]
     },
     "execution_count": 41,
     "metadata": {},
     "output_type": "execute_result"
    }
   ],
   "source": [
    "# 1.9. The imdb_score column shows a viewer rating for the film. Build a table to reflect the\n",
    "# average rating of films depending on which movie_plot_category category they belong to.\n",
    "#print(df[['imdb_score', 'movie_plot_category']].sample(3))\n",
    "\n",
    "films_average_rating = df.groupby('movie_plot_category').imdb_score.mean().reset_index()\n",
    "films_average_rating"
   ]
  },
  {
   "cell_type": "code",
   "execution_count": 42,
   "id": "65270b1a",
   "metadata": {},
   "outputs": [
    {
     "name": "stdout",
     "output_type": "stream",
     "text": [
      "The average rating films of love is 6.58\n"
     ]
    }
   ],
   "source": [
    "# 1.10. What is the average rating of films in the \"love\" category? Give the answer as a floatingpoint\n",
    "# figure rounded to two decimal places.\n",
    "map_category = films_average_rating['movie_plot_category'] == 'love'\n",
    "print(f\"The average rating films of love is {films_average_rating[map_category].iloc[0].imdb_score:.{2}f}\")"
   ]
  },
  {
   "cell_type": "code",
   "execution_count": 43,
   "id": "9ae90f04",
   "metadata": {},
   "outputs": [
    {
     "name": "stdout",
     "output_type": "stream",
     "text": [
      "The median budget for all films is 15000000 $\n"
     ]
    }
   ],
   "source": [
    "# 1.11. The budget column contains the film's budget. What is the median budget for all the films\n",
    "# listed? Give the answer as an integer.\n",
    "\n",
    "df['clean_budget'] = df['budget'].map(lambda x: float(x.replace('$', '')))\n",
    "print(f\"The median budget for all films is {int(df['clean_budget'].median())} $\")"
   ]
  }
 ],
 "metadata": {
  "kernelspec": {
   "display_name": "Python 3 (ipykernel)",
   "language": "python",
   "name": "python3"
  },
  "language_info": {
   "codemirror_mode": {
    "name": "ipython",
    "version": 3
   },
   "file_extension": ".py",
   "mimetype": "text/x-python",
   "name": "python",
   "nbconvert_exporter": "python",
   "pygments_lexer": "ipython3",
   "version": "3.9.6"
  }
 },
 "nbformat": 4,
 "nbformat_minor": 5
}
