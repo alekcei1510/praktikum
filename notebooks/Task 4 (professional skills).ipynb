{
 "cells": [
  {
   "cell_type": "markdown",
   "id": "fe9ed9e4",
   "metadata": {},
   "source": [
    "You are given two random variables X and Y.\n",
    "\n",
    "- `E(X) = 0.5`\n",
    "- `Var(X) = 2`\n",
    "\n",
    "\n",
    "- `E(Y) = 7`\n",
    "- `Var(Y) = 3.5`\n",
    "\n",
    "\n",
    "- `cov (X, Y) = -0.8`\n",
    "\n",
    "Find the variance of the random variable `Z = 2X - 3Y`\n"
   ]
  },
  {
   "cell_type": "markdown",
   "id": "74be8bd4",
   "metadata": {},
   "source": [
    "#### Solution"
   ]
  },
  {
   "cell_type": "markdown",
   "id": "ad72e36b",
   "metadata": {},
   "source": [
    "Because the variables are not independent, we need to follow the next formula for dependent variables."
   ]
  },
  {
   "attachments": {
    "image-2.png": {
     "image/png": "[encoded data removed]"
    }
   },
   "cell_type": "markdown",
   "id": "e6766e97",
   "metadata": {},
   "source": [
    "![image-2.png](attachment:image-2.png)"
   ]
  },
  {
   "cell_type": "markdown",
   "id": "2ede7ba7",
   "metadata": {},
   "source": [
    "1) `Var(z) = Var(2X-3Y)`\n",
    "2) `Var(2X-3Y) = 2^2*Var(X) + 3^2*Var(Y) - 2*2*3Cov(X,Y)`\n",
    "3) `Var(2X-3Y) = 4*2 + 9*3.5 - 2*2*3*-0.8`\n",
    "4) `Var(2X-3Y) = 49.1`"
   ]
  },
  {
   "cell_type": "markdown",
   "id": "b8132e85",
   "metadata": {},
   "source": [
    "The variance of `2X-3Y` is `49.1`"
   ]
  }
 ],
 "metadata": {
  "kernelspec": {
   "display_name": "Python 3 (ipykernel)",
   "language": "python",
   "name": "python3"
  },
  "language_info": {
   "codemirror_mode": {
    "name": "ipython",
    "version": 3
   },
   "file_extension": ".py",
   "mimetype": "text/x-python",
   "name": "python",
   "nbconvert_exporter": "python",
   "pygments_lexer": "ipython3",
   "version": "3.9.6"
  }
 },
 "nbformat": 4,
 "nbformat_minor": 5
}
