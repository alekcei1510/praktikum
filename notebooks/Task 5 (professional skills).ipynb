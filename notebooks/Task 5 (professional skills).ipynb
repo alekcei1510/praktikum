{
 "cells": [
  {
   "cell_type": "markdown",
   "id": "4a899400",
   "metadata": {},
   "source": [
    "### Task 5"
   ]
  },
  {
   "cell_type": "markdown",
   "id": "cda5156a",
   "metadata": {},
   "source": [
    "Omer trained a linear regression model and tested its performance on a test sample of 500\n",
    "objects. On 400 of those, the model returned a prediction higher than expected by 0.5, and on\n",
    "the remaining 100, the model returned a prediction lower than expected by 0.7.\n",
    "What is the MSE for his model?\n",
    "Limor claims that the linear regression model wasn't trained correctly, and we can do improve\n",
    "it by changing all the answers by a constant value. What will be her MSE?\n",
    "You can assume that Limor found the smallest error under her constraints.\n",
    "Return two values - Omer's and Limor's MSE."
   ]
  },
  {
   "attachments": {},
   "cell_type": "markdown",
   "id": "10b4a7a3",
   "metadata": {},
   "source": [
    "<img src=\"mse_formula.png\" alt=\"drawing\" width=\"400\" height=\"200\"/>"
   ]
  },
  {
   "cell_type": "markdown",
   "id": "fd566887",
   "metadata": {},
   "source": [
    "**Notes**\n",
    "* N is 500 \n",
    "* for 400 the difference between the predicted and tru value is 0.5 \n",
    "* for 100 the difference between the predicted and tru value is -0.7\n",
    "\n",
    "* Limor will put a constant value, the min error with a constant value is the mean of the points"
   ]
  },
  {
   "cell_type": "markdown",
   "id": "1c1af54f",
   "metadata": {},
   "source": [
    "#### Omer MSE"
   ]
  },
  {
   "cell_type": "markdown",
   "id": "44419e92",
   "metadata": {},
   "source": [
    "1) First apply the sumatory over the first 400 values of 0.5 squared\n",
    "2) Second apply the sumatory over the remaining 100 values of 0.7 squared (sign does not matter for the square)"
   ]
  },
  {
   "cell_type": "code",
   "execution_count": 59,
   "id": "11a2bfbb",
   "metadata": {},
   "outputs": [
    {
     "name": "stdout",
     "output_type": "stream",
     "text": [
      "The MSE for Omar is 0.298\n"
     ]
    }
   ],
   "source": [
    "v_1 = (0.5**2)*400\n",
    "v_2 = (0.7**2)*100\n",
    "\n",
    "mse_omer = (v_1 + v_2) / 500\n",
    "mse_omer\n",
    "print(f\"The MSE for Omar is {round(mse_omer, 4)}\")"
   ]
  },
  {
   "cell_type": "markdown",
   "id": "2eebe2c0",
   "metadata": {},
   "source": [
    "#### Limer MSE"
   ]
  },
  {
   "cell_type": "markdown",
   "id": "20d6f0c3",
   "metadata": {},
   "source": [
    "1. Limer wants to change the result by a certain constant c \n",
    "2. You can assume that Limor found the smallest error under her constraints -> derivative to find the minimum of a function\n",
    "3. The sign of the 0.7 matters because we need to find the minimum with a derivative"
   ]
  },
  {
   "cell_type": "markdown",
   "id": "8d82ac12",
   "metadata": {},
   "source": [
    "`mse_limer = (400*(0.5+c)^2 + 100*(c-0.7)^2 ) / 500   = f(c)`  \n",
    "\n",
    "Smallest error for the function depending on c is (applying chain rule for the derivative): \n",
    "\n",
    "`f'(c) = (4/5)*2*(0.5+c) + (1/5)*2*(c-0.7) = 0`\n",
    "\n",
    "`c=-0.26`\n",
    "\n",
    "Replacing c in mse_limer formula to find the mse value\n",
    "`mse_limer = (400*(0.5-0.26)^2 + 100*(-0.26-0.7)^2 ) / 500`  "
   ]
  },
  {
   "cell_type": "code",
   "execution_count": 61,
   "id": "cd6339a6",
   "metadata": {},
   "outputs": [
    {
     "name": "stdout",
     "output_type": "stream",
     "text": [
      "The MSE for Limer is 0.2304\n"
     ]
    }
   ],
   "source": [
    "mse_limer = (400*(0.5-0.26)**2 + 100*(-0.26-0.7)**2 ) / 500\n",
    "print(f\"The MSE for Limer is {round(mse_limer, 4)}\")"
   ]
  }
 ],
 "metadata": {
  "kernelspec": {
   "display_name": "Python 3 (ipykernel)",
   "language": "python",
   "name": "python3"
  },
  "language_info": {
   "codemirror_mode": {
    "name": "ipython",
    "version": 3
   },
   "file_extension": ".py",
   "mimetype": "text/x-python",
   "name": "python",
   "nbconvert_exporter": "python",
   "pygments_lexer": "ipython3",
   "version": "3.9.6"
  }
 },
 "nbformat": 4,
 "nbformat_minor": 5
}
